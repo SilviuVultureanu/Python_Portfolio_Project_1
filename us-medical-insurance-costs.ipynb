{
 "cells": [
  {
   "cell_type": "markdown",
   "metadata": {},
   "source": [
    "# Medical Cost Personal Datasets\n",
    "## **Insurance Forecast by using Linear Regression**"
   ]
  },
  {
   "cell_type": "markdown",
   "metadata": {},
   "source": [
    "## Scope\n",
    "NOTE: the scope if defined during the scoping proccess and will be refined during the project\n",
    "### Step 1: Goals\n",
    "NOTE: Projects should idealy be problem-centric and not data-centric. Starting with data may lead to analysis that is not actionable or relevant to the goals of our organization.\n",
    "#### 1. Problem-centric view: From abstract to optimized\n",
    "    - Abstract: (good) lower the charges / (evil) increase the charges\n",
    "    - Improve: alter the variables that most impact the charges\n",
    "    - Optimezed: get as many people to alter their of BMI and smoking status.\n",
    "\n",
    "#### 2. Data-centric view: Project Objectives\n",
    "    - Import a dataset into your program\n",
    "    - Analyze a dataset by building out functions or class methods\n",
    "    - Use libraries to assist in your analysis\n",
    "    - Document and organize your findings\n",
    "    - Make predictions about a dataset’s features based on your findings\n",
    "\n",
    "### Step 2: What actions/interventions are you informing?\n",
    "NOTE: actions need to be concrete in order to achieve the goal.\n",
    "I will focus only on the good side of the goals.\n",
    "\n",
    "Possible Actions (+ possible action break down):\n",
    "#### 1. Improved BMI -> Data Science key imput -> who should improve and has a benefit by improving their BMI ?\n",
    "    - healthy habbits and eating advice aimed at 75% of the clients\n",
    "    - fitness/sport programs for 40% of the clients\n",
    "    - medical professional care for 10% of the clients\n",
    "#### 2. Smoker to Non-Smoker -> Data Science key imput -> who should and is most likely to quit smoking ?\n",
    "    - health advice to reduce frequency of smoking and expose the risks of smoking for 90% of all the population\n",
    "    - medical advice to 50% of affected population\n",
    "    - advanced support to quit smoking for 10% of the affected population\n",
    "\n",
    "### Step 3: What Data do you have and what Data do you need?\n",
    "#### 1. DATA WE HAVE: The file insurance.csv is where data is organized\n",
    "   **It's good practice to evaluate each data source regarding:**\n",
    "    - how is it stored? -> a well structured CSV file (see details below)\n",
    "    - how was it collected? -> more details www.kaggle.com/mirichoi0218/insurance\n",
    "    - what is the level of granularity? -> we have data about individuals and actions are aimed at individuals\n",
    "    - how far back does it go? -> unknown, not needed\n",
    "    - how often does new data come in? -> unknown, not needed\n",
    "    - dows it overwrite old fields? -> possible, once the status of an individual changes; does not affect the code\n",
    "    - does it add new rows? -> possible, but current sample size is sufficient; does not affect the code\n",
    "    - is there any collection bias? -> to be determined\n",
    "\n",
    "   **The file has 1339 rows, including the header, and 7 columns:**\n",
    "    - age (integer)\n",
    "    - sex (female / male)\n",
    "    - bmi (float) -> objective index of body weight (kg / m ^ 2) using the ratio of height to weight, ideally 18.5 to 24.9\n",
    "    - children (integer) -> Number of children covered by health insurance / Number of dependents\n",
    "    - smoker (yes / no)\n",
    "    - region (northeast, northwest, southeast, southwest) -> the residential area in the US\n",
    "    - charges (float) -> Individual medical costs billed by health insurance -> known from previous projects: estimated_cost = 250 * age − 128 * sex + 370 * bmi + 425 * children + 24000 * smoker − 12500 , it might not be true\n",
    "\n",
    "   **Biases that should be evaluated:**\n",
    "    - male to female ratio\n",
    "    - smoker or nonsmoker prevalence\n",
    "    - regional distribution\n",
    "    - age distribution \n",
    "\n",
    "### Possible ideas for analysis are the following:\n",
    "- Find out the average age of the patients in the dataset.\n",
    "- Analyze where a majority of the individuals are from.\n",
    "- Look at the different costs between smokers vs. non-smokers.\n",
    "- Figure out what the average age is for someone who has at least one child in this dataset.\n",
    "\n",
    "- Organize your findings into dictionaries, lists, or another convenient datatype.\n",
    "- Make predictions about what features are the most influential for an individual’s medical insurance charges based on your analysis.\n",
    "- Explore areas where the data may include bias and how that would impact potential use cases."
   ]
  },
  {
   "cell_type": "markdown",
   "metadata": {},
   "source": [
    "# IMPORT YOUR DATASET\n",
    "# SAVE YOUR DATASET"
   ]
  },
  {
   "cell_type": "code",
   "execution_count": 173,
   "metadata": {},
   "outputs": [],
   "source": [
    "import csv\n",
    "list_id = []\n",
    "list_age = []\n",
    "list_sex = []\n",
    "list_bmi = []\n",
    "list_children = []\n",
    "list_smoker = []\n",
    "list_region = []\n",
    "list_charges = []\n",
    "with open(\"insurance.csv\", newline='') as insurance_csv:\n",
    "    user_data = csv.DictReader(insurance_csv)\n",
    "    i=0\n",
    "    for row in user_data:\n",
    "        list_id.append(i)\n",
    "        i+=1\n",
    "        list_age.append(row['age'])\n",
    "        if row['sex'] == 'male':\n",
    "            list_sex.append(1)\n",
    "        else: list_sex.append(0)\n",
    "        list_bmi.append(row['bmi'])\n",
    "        list_children.append(row['children'])\n",
    "        if row['smoker'] == 'yes':\n",
    "            list_smoker.append(1)\n",
    "        else: list_smoker.append(0)\n",
    "        list_region.append(row['region'])\n",
    "        list_charges.append(row['charges'])\n",
    "        \n",
    "    #print(list_id)"
   ]
  },
  {
   "cell_type": "markdown",
   "metadata": {},
   "source": [
    "# Build out analysis functions or class methods\n",
    "Find out the average age of the patients in the dataset."
   ]
  },
  {
   "cell_type": "code",
   "execution_count": 174,
   "metadata": {},
   "outputs": [
    {
     "name": "stdout",
     "output_type": "stream",
     "text": [
      "39.20702541106129\n",
      "0.5052316890881914\n",
      "30.663396860986538\n",
      "13270.422265141257\n",
      "0.20478325859491778\n",
      "1.0949177877429\n"
     ]
    }
   ],
   "source": [
    "def average(lyst):\n",
    "    total = 0\n",
    "    for x in lyst:\n",
    "        total = total + float(x)\n",
    "    avg = total / len(lyst)\n",
    "    return avg\n",
    "\n",
    "print(average(list_age))\n",
    "print(average(list_sex))\n",
    "print(average(list_bmi))\n",
    "print(average(list_charges))\n",
    "print(average(list_smoker))\n",
    "print(average(list_children))"
   ]
  },
  {
   "cell_type": "markdown",
   "metadata": {},
   "source": [
    "- Female:male = 49.5:50.5 % -> no bias\n",
    "- Smoker:nonsmoker = 20.4:79.6 % -> there are more nonsmokers"
   ]
  },
  {
   "cell_type": "markdown",
   "metadata": {},
   "source": [
    "Analyze where a majority of the individuals are from."
   ]
  },
  {
   "cell_type": "code",
   "execution_count": 175,
   "metadata": {},
   "outputs": [
    {
     "data": {
      "text/plain": [
       "({'southwest': 325, 'southeast': 364, 'northwest': 325, 'northeast': 324},\n",
       " {'southwest': '24.29%',\n",
       "  'southeast': '27.2%',\n",
       "  'northwest': '24.29%',\n",
       "  'northeast': '24.22%'})"
      ]
     },
     "execution_count": 175,
     "metadata": {},
     "output_type": "execute_result"
    }
   ],
   "source": [
    "def location(lyst):\n",
    "    geo_loc={}\n",
    "    for loc in lyst:\n",
    "        if loc in geo_loc:\n",
    "            geo_loc[loc] += 1\n",
    "        else: geo_loc[loc] = 1\n",
    "    p_hat={}\n",
    "    for loc in geo_loc:\n",
    "        p_hat[loc] = str(round(geo_loc[loc]/len(lyst)*100,2))+'%'\n",
    "    return geo_loc, p_hat\n",
    "            \n",
    "location(list_region)\n"
   ]
  },
  {
   "cell_type": "markdown",
   "metadata": {},
   "source": [
    "Look at the different costs between smokers vs. non-smokers."
   ]
  },
  {
   "cell_type": "code",
   "execution_count": 176,
   "metadata": {},
   "outputs": [
    {
     "data": {
      "text/plain": [
       "{'nonsmokers': (1064, 8974061.47, 8434.27),\n",
       " 'smokers': (274, 8781763.52, 32050.23)}"
      ]
     },
     "execution_count": 176,
     "metadata": {},
     "output_type": "execute_result"
    }
   ],
   "source": [
    "def smokers():\n",
    "    anti = 0\n",
    "    charges_anti = 0.0\n",
    "    pro = 0\n",
    "    charges_pro = 0.0\n",
    "    for num in list_id:\n",
    "        if list_smoker[num] == 1:\n",
    "            pro += 1\n",
    "            charges_pro += float(list_charges[num])\n",
    "        elif list_smoker[num] == 0:\n",
    "            anti += 1\n",
    "            charges_anti += float(list_charges[num])\n",
    "    smoker_stats = {\"nonsmokers\":(anti, round(charges_anti, 2), round(charges_anti/anti, 2)), \\\n",
    "                    \"smokers\":(pro, round(charges_pro, 2), round(charges_pro/pro, 2))}\n",
    "    return smoker_stats\n",
    "\n",
    "smokers()"
   ]
  },
  {
   "cell_type": "markdown",
   "metadata": {},
   "source": [
    "Smokers cost is on average much higher than nonsmokers.\n",
    "It has a great influence on insurance charges."
   ]
  },
  {
   "cell_type": "markdown",
   "metadata": {},
   "source": [
    "Figure out what the average age is for someone who has at least one child in this dataset."
   ]
  },
  {
   "cell_type": "code",
   "execution_count": 178,
   "metadata": {},
   "outputs": [
    {
     "data": {
      "text/plain": [
       "(39.78, 57.1)"
      ]
     },
     "execution_count": 178,
     "metadata": {},
     "output_type": "execute_result"
    }
   ],
   "source": [
    "def average_age_w_child():\n",
    "    total_age_w_child = 0\n",
    "    index_age_w_child = 0    \n",
    "    for num in list_id:\n",
    "        if float(list_children[num]) > 0:\n",
    "            total_age_w_child += float(list_age[num])\n",
    "            index_age_w_child += 1\n",
    "    proportion_w_child = round(index_age_w_child / len(list_id) * 100, 2)\n",
    "    average_age_child = round(total_age_w_child / index_age_w_child, 2)\n",
    "    return average_age_child, proportion_w_child\n",
    "average_age_w_child()"
   ]
  },
  {
   "cell_type": "code",
   "execution_count": 179,
   "metadata": {},
   "outputs": [
    {
     "data": {
      "text/plain": [
       "{'18-24': 278,\n",
       " '25-34': 271,\n",
       " '35-44': 260,\n",
       " '45-54': 287,\n",
       " '55-64': 242,\n",
       " '65-74': 0,\n",
       " '75-100': 0}"
      ]
     },
     "execution_count": 179,
     "metadata": {},
     "output_type": "execute_result"
    }
   ],
   "source": [
    "def age_dict():\n",
    "    dictionary = {'18-24':0,'25-34':0, '35-44':0, '45-54':0, '55-64':0 ,'65-74':0, '75-100':0}\n",
    "    for num in list_id:        \n",
    "        age = float(list_age[num])\n",
    "        if age>17 and age<25:\n",
    "            dictionary['18-24'] += 1\n",
    "        elif age>24 and age<35:\n",
    "            dictionary['25-34'] += 1\n",
    "        elif age>34 and age<45:\n",
    "            dictionary['35-44'] += 1\n",
    "        elif age>44 and age<55:\n",
    "            dictionary['45-54'] += 1\n",
    "        elif age>54 and age<65:\n",
    "            dictionary['55-64'] += 1\n",
    "        elif age>64 and age<75:\n",
    "            dictionary['65-74'] += 1\n",
    "        elif age>74:\n",
    "            dictionary['75-100'] += 1\n",
    "    return dictionary\n",
    "age_dict()"
   ]
  },
  {
   "cell_type": "markdown",
   "metadata": {},
   "source": [
    "Between the ages of 18 to 65 years, all the age groups are fairly represented within the sample."
   ]
  },
  {
   "cell_type": "code",
   "execution_count": 180,
   "metadata": {},
   "outputs": [
    {
     "data": {
      "text/plain": [
       "{'0': 574, '1': 324, '2': 240, '3': 157, '4': 25, '5': 18}"
      ]
     },
     "execution_count": 180,
     "metadata": {},
     "output_type": "execute_result"
    }
   ],
   "source": [
    "def child_dict():\n",
    "    dictionary = {'0':0, '1':0, '2':0, '3':0, '4':0, '5':0}\n",
    "    for num in list_id:\n",
    "        num_child = list_children[num]\n",
    "        if num_child not in dictionary:\n",
    "            dictionary[num_child] = 1\n",
    "        else: dictionary[num_child] += 1\n",
    "    return dictionary\n",
    "child_dict()"
   ]
  },
  {
   "cell_type": "code",
   "execution_count": 195,
   "metadata": {},
   "outputs": [
    {
     "data": {
      "text/plain": [
       "{'18-24': [60, 21.58],\n",
       " '25-34': [56, 20.66],\n",
       " '35-44': [61, 23.46],\n",
       " '45-54': [55, 19.16],\n",
       " '55-64': [42, 17.36],\n",
       " '65-74': [0, 0],\n",
       " '75-100': [0, 0]}"
      ]
     },
     "execution_count": 195,
     "metadata": {},
     "output_type": "execute_result"
    }
   ],
   "source": [
    "def smoker_age_dict():\n",
    "    dictionary = {'18-24':[0, 0],'25-34':[0, 0], '35-44':[0, 0], '45-54':[0, 0], \\\n",
    "                  '55-64':[0, 0] ,'65-74':[0, 0], '75-100':[0, 0]}\n",
    "    for num in list_id:      \n",
    "        if list_smoker[num] == 1:\n",
    "            age = float(list_age[num])\n",
    "            if age>17 and age<25:\n",
    "                dictionary['18-24'][0] += 1\n",
    "            elif age>24 and age<35:\n",
    "                dictionary['25-34'][0] += 1\n",
    "            elif age>34 and age<45:\n",
    "                dictionary['35-44'][0] += 1\n",
    "            elif age>44 and age<55:\n",
    "                dictionary['45-54'][0] += 1\n",
    "            elif age>54 and age<65:\n",
    "                dictionary['55-64'][0] += 1\n",
    "            elif age>64 and age<75:\n",
    "                dictionary['65-74'][0] += 1\n",
    "            elif age>74:\n",
    "                dictionary['75-100'][0] += 1\n",
    "    dictionary['18-24'][1] = round((dictionary['18-24'][0]/age_dict()['18-24'])*100, 2)\n",
    "    dictionary['25-34'][1] = round((dictionary['25-34'][0]/age_dict()['25-34'])*100, 2)\n",
    "    dictionary['35-44'][1] = round((dictionary['35-44'][0]/age_dict()['35-44'])*100, 2)\n",
    "    dictionary['45-54'][1] = round((dictionary['45-54'][0]/age_dict()['45-54'])*100, 2)\n",
    "    dictionary['55-64'][1] = round((dictionary['55-64'][0]/age_dict()['55-64'])*100, 2)\n",
    "    #dictionary['65-74'][1] = round((dictionary['65-74'][0]/age_dict()['65-74'])*100, 2)\n",
    "    #dictionary['75-100'][1] = round((dictionary['75-100'][0]/age_dict()['75-100'])*100, 2)\n",
    "    return dictionary\n",
    "smoker_age_dict()"
   ]
  },
  {
   "cell_type": "markdown",
   "metadata": {},
   "source": [
    "'age range' : [number of smokers, percent within smoking population] \n",
    "\n",
    "\n",
    "Smoking age is evenly distributed within the sample.\n",
    "This means that we can include smokers when considering the influence of other factors (age, sex, bmi) upon insurance charges."
   ]
  },
  {
   "cell_type": "code",
   "execution_count": null,
   "metadata": {},
   "outputs": [],
   "source": []
  }
 ],
 "metadata": {
  "kernelspec": {
   "display_name": "Python 3",
   "language": "python",
   "name": "python3"
  },
  "language_info": {
   "codemirror_mode": {
    "name": "ipython",
    "version": 3
   },
   "file_extension": ".py",
   "mimetype": "text/x-python",
   "name": "python",
   "nbconvert_exporter": "python",
   "pygments_lexer": "ipython3",
   "version": "3.8.3"
  }
 },
 "nbformat": 4,
 "nbformat_minor": 4
}
